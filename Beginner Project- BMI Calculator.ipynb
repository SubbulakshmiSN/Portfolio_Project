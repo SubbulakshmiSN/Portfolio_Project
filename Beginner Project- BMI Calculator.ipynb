{
 "cells": [
  {
   "cell_type": "markdown",
   "id": "f6ceb641",
   "metadata": {},
   "source": [
    "## BMI Calculator \n",
    "### Body Mass Index"
   ]
  },
  {
   "cell_type": "code",
   "execution_count": 5,
   "id": "3e733629",
   "metadata": {},
   "outputs": [
    {
     "name": "stdout",
     "output_type": "stream",
     "text": [
      "Enter your name: Mark\n",
      "Enter your weight in pounds: 89\n",
      "Enter your height in inches: 76\n",
      "10.832236842105264\n",
      "Mark, You are underweight.\n"
     ]
    }
   ],
   "source": [
    "name = input(\"Enter your name: \")\n",
    "\n",
    "weight = int(input(\"Enter your weight in pounds: \"))\n",
    "\n",
    "height = int(input(\"Enter your height in inches: \"))\n",
    "\n",
    "BMI = (weight * 703)/ (height  * height)\n",
    "\n",
    "print(BMI)\n",
    "\n",
    "if BMI >0:\n",
    "    if(BMI <18.5):\n",
    "        print(name +\", You are underweight.\")\n",
    "    elif(BMI <=24.9):\n",
    "        print(name +\", You are Normalweight.\")\n",
    "    elif(BMI <29.9):\n",
    "        print(name +\", You are overweight.You need to exercise more.\")\n",
    "    elif(BMI <34.9):\n",
    "        print(name +\", You are Obese.\")\n",
    "    elif(BMI <39.9):\n",
    "        print(name +\", You are severely obese.\")\n",
    "    else:\n",
    "        print(name +\", You are Mordibly obese.\")\n",
    "else:\n",
    "    print(\"Enter valid input\")"
   ]
  },
  {
   "cell_type": "code",
   "execution_count": 11,
   "id": "6be06bf5",
   "metadata": {
    "collapsed": true
   },
   "outputs": [
    {
     "name": "stdout",
     "output_type": "stream",
     "text": [
      "Under 18.5\tUnderweight\tMinimal\n",
      "18.5 - 24.9\tNormal Weight\tMinimal\n",
      "25 - 29.9\tOverweight\tIncreased\n",
      "30 - 34.9\tObese\tHigh\n",
      "35 - 39.9\tSeverely Obese\tVery High\n",
      "40 and over\tMorbidly Obese\tExtremely High\n",
      "\n"
     ]
    }
   ],
   "source": [
    "\n",
    "multiline= '''Under 18.5\tUnderweight\tMinimal\n",
    "18.5 - 24.9\tNormal Weight\tMinimal\n",
    "25 - 29.9\tOverweight\tIncreased\n",
    "30 - 34.9\tObese\tHigh\n",
    "35 - 39.9\tSeverely Obese\tVery High\n",
    "40 and over\tMorbidly Obese\tExtremely High\n",
    "'''\n",
    "print(multiline)"
   ]
  },
  {
   "cell_type": "code",
   "execution_count": null,
   "id": "e1632777",
   "metadata": {},
   "outputs": [],
   "source": []
  },
  {
   "cell_type": "code",
   "execution_count": null,
   "id": "6d01285f",
   "metadata": {},
   "outputs": [],
   "source": []
  },
  {
   "cell_type": "code",
   "execution_count": null,
   "id": "2deb6fa4",
   "metadata": {},
   "outputs": [],
   "source": []
  },
  {
   "cell_type": "code",
   "execution_count": null,
   "id": "d665f108",
   "metadata": {},
   "outputs": [],
   "source": []
  },
  {
   "cell_type": "code",
   "execution_count": null,
   "id": "367a7773",
   "metadata": {},
   "outputs": [],
   "source": []
  },
  {
   "cell_type": "code",
   "execution_count": null,
   "id": "9c2a919a",
   "metadata": {},
   "outputs": [],
   "source": []
  },
  {
   "cell_type": "code",
   "execution_count": null,
   "id": "daa8e85e",
   "metadata": {},
   "outputs": [],
   "source": []
  },
  {
   "cell_type": "code",
   "execution_count": null,
   "id": "087f0d6b",
   "metadata": {},
   "outputs": [],
   "source": [
    "#BMI = (Weight in pounds * 703)/ (height in inches * height in inches)"
   ]
  }
 ],
 "metadata": {
  "kernelspec": {
   "display_name": "Python 3 (ipykernel)",
   "language": "python",
   "name": "python3"
  },
  "language_info": {
   "codemirror_mode": {
    "name": "ipython",
    "version": 3
   },
   "file_extension": ".py",
   "mimetype": "text/x-python",
   "name": "python",
   "nbconvert_exporter": "python",
   "pygments_lexer": "ipython3",
   "version": "3.10.9"
  }
 },
 "nbformat": 4,
 "nbformat_minor": 5
}
